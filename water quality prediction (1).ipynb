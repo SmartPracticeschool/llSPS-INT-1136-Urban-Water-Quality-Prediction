{
 "cells": [
  {
   "cell_type": "code",
   "execution_count": 51,
   "metadata": {},
   "outputs": [
    {
     "data": {
      "text/plain": [
       "'C:\\\\Users\\\\NITHIN POTLURI\\\\Desktop'"
      ]
     },
     "execution_count": 51,
     "metadata": {},
     "output_type": "execute_result"
    }
   ],
   "source": [
    "import os\n",
    "os.getcwd()"
   ]
  },
  {
   "cell_type": "code",
   "execution_count": 52,
   "metadata": {},
   "outputs": [
    {
     "data": {
      "text/plain": [
       "'C:\\\\Users\\\\NITHIN POTLURI\\\\Desktop'"
      ]
     },
     "execution_count": 52,
     "metadata": {},
     "output_type": "execute_result"
    }
   ],
   "source": [
    "os.chdir(\"C:/Users/NITHIN POTLURI/Desktop\")\n",
    "os.getcwd()"
   ]
  },
  {
   "cell_type": "code",
   "execution_count": 53,
   "metadata": {},
   "outputs": [
    {
     "data": {
      "text/html": [
       "<div>\n",
       "<style scoped>\n",
       "    .dataframe tbody tr th:only-of-type {\n",
       "        vertical-align: middle;\n",
       "    }\n",
       "\n",
       "    .dataframe tbody tr th {\n",
       "        vertical-align: top;\n",
       "    }\n",
       "\n",
       "    .dataframe thead th {\n",
       "        text-align: right;\n",
       "    }\n",
       "</style>\n",
       "<table border=\"1\" class=\"dataframe\">\n",
       "  <thead>\n",
       "    <tr style=\"text-align: right;\">\n",
       "      <th></th>\n",
       "      <th>STATION CODE</th>\n",
       "      <th>LOCATIONS</th>\n",
       "      <th>STATE</th>\n",
       "      <th>Temp</th>\n",
       "      <th>D.O. (mg/l)</th>\n",
       "      <th>PH</th>\n",
       "      <th>CONDUCTIVITY (µmhos/cm)</th>\n",
       "      <th>B.O.D. (mg/l)</th>\n",
       "      <th>NITRATENAN N+ NITRITENANN (mg/l)</th>\n",
       "      <th>FECAL COLIFORM (MPN/100ml)</th>\n",
       "      <th>TOTAL COLIFORM (MPN/100ml)Mean</th>\n",
       "      <th>year</th>\n",
       "    </tr>\n",
       "  </thead>\n",
       "  <tbody>\n",
       "    <tr>\n",
       "      <th>0</th>\n",
       "      <td>1393.0</td>\n",
       "      <td>DAMANGANGA AT D/S OF MADHUBAN, DAMAN</td>\n",
       "      <td>DAMAN &amp; DIU</td>\n",
       "      <td>30.6</td>\n",
       "      <td>6.7</td>\n",
       "      <td>7.5</td>\n",
       "      <td>203.0</td>\n",
       "      <td>NaN</td>\n",
       "      <td>0.1</td>\n",
       "      <td>11</td>\n",
       "      <td>27</td>\n",
       "      <td>2014</td>\n",
       "    </tr>\n",
       "    <tr>\n",
       "      <th>1</th>\n",
       "      <td>1399.0</td>\n",
       "      <td>ZUARI AT D/S OF PT. WHERE KUMBARJRIA CANAL JOI...</td>\n",
       "      <td>GOA</td>\n",
       "      <td>29.8</td>\n",
       "      <td>5.7</td>\n",
       "      <td>7.2</td>\n",
       "      <td>189.0</td>\n",
       "      <td>2</td>\n",
       "      <td>0.2</td>\n",
       "      <td>4953</td>\n",
       "      <td>8391</td>\n",
       "      <td>2014</td>\n",
       "    </tr>\n",
       "    <tr>\n",
       "      <th>2</th>\n",
       "      <td>1475.0</td>\n",
       "      <td>ZUARI AT PANCHAWADI</td>\n",
       "      <td>GOA</td>\n",
       "      <td>29.5</td>\n",
       "      <td>6.3</td>\n",
       "      <td>6.9</td>\n",
       "      <td>179.0</td>\n",
       "      <td>1.7</td>\n",
       "      <td>0.1</td>\n",
       "      <td>3243</td>\n",
       "      <td>5330</td>\n",
       "      <td>2014</td>\n",
       "    </tr>\n",
       "    <tr>\n",
       "      <th>3</th>\n",
       "      <td>3181.0</td>\n",
       "      <td>RIVER ZUARI AT BORIM BRIDGE</td>\n",
       "      <td>GOA</td>\n",
       "      <td>29.7</td>\n",
       "      <td>5.8</td>\n",
       "      <td>6.9</td>\n",
       "      <td>64.0</td>\n",
       "      <td>3.8</td>\n",
       "      <td>0.5</td>\n",
       "      <td>5382</td>\n",
       "      <td>8443</td>\n",
       "      <td>2014</td>\n",
       "    </tr>\n",
       "    <tr>\n",
       "      <th>4</th>\n",
       "      <td>3182.0</td>\n",
       "      <td>RIVER ZUARI AT MARCAIM JETTY</td>\n",
       "      <td>GOA</td>\n",
       "      <td>29.5</td>\n",
       "      <td>5.8</td>\n",
       "      <td>7.3</td>\n",
       "      <td>83.0</td>\n",
       "      <td>1.9</td>\n",
       "      <td>0.4</td>\n",
       "      <td>3428</td>\n",
       "      <td>5500</td>\n",
       "      <td>2014</td>\n",
       "    </tr>\n",
       "    <tr>\n",
       "      <th>...</th>\n",
       "      <td>...</td>\n",
       "      <td>...</td>\n",
       "      <td>...</td>\n",
       "      <td>...</td>\n",
       "      <td>...</td>\n",
       "      <td>...</td>\n",
       "      <td>...</td>\n",
       "      <td>...</td>\n",
       "      <td>...</td>\n",
       "      <td>...</td>\n",
       "      <td>...</td>\n",
       "      <td>...</td>\n",
       "    </tr>\n",
       "    <tr>\n",
       "      <th>1986</th>\n",
       "      <td>1330.0</td>\n",
       "      <td>TAMBIRAPARANI AT ARUMUGANERI, TAMILNADU</td>\n",
       "      <td>NaN</td>\n",
       "      <td>NaN</td>\n",
       "      <td>7.9</td>\n",
       "      <td>738.0</td>\n",
       "      <td>7.2</td>\n",
       "      <td>2.7</td>\n",
       "      <td>0.518</td>\n",
       "      <td>0.518</td>\n",
       "      <td>202</td>\n",
       "      <td>2003</td>\n",
       "    </tr>\n",
       "    <tr>\n",
       "      <th>1987</th>\n",
       "      <td>1450.0</td>\n",
       "      <td>PALAR AT VANIYAMBADI WATER SUPPLY HEAD WORK, T...</td>\n",
       "      <td>NaN</td>\n",
       "      <td>29</td>\n",
       "      <td>7.5</td>\n",
       "      <td>585.0</td>\n",
       "      <td>6.3</td>\n",
       "      <td>2.6</td>\n",
       "      <td>0.155</td>\n",
       "      <td>0.155</td>\n",
       "      <td>315</td>\n",
       "      <td>2003</td>\n",
       "    </tr>\n",
       "    <tr>\n",
       "      <th>1988</th>\n",
       "      <td>1403.0</td>\n",
       "      <td>GUMTI AT U/S SOUTH TRIPURA,TRIPURA</td>\n",
       "      <td>NaN</td>\n",
       "      <td>28</td>\n",
       "      <td>7.6</td>\n",
       "      <td>98.0</td>\n",
       "      <td>6.2</td>\n",
       "      <td>1.2</td>\n",
       "      <td>NaN</td>\n",
       "      <td>NaN</td>\n",
       "      <td>570</td>\n",
       "      <td>2003</td>\n",
       "    </tr>\n",
       "    <tr>\n",
       "      <th>1989</th>\n",
       "      <td>1404.0</td>\n",
       "      <td>GUMTI AT D/S SOUTH TRIPURA, TRIPURA</td>\n",
       "      <td>NaN</td>\n",
       "      <td>28</td>\n",
       "      <td>7.7</td>\n",
       "      <td>91.0</td>\n",
       "      <td>6.5</td>\n",
       "      <td>1.3</td>\n",
       "      <td>NaN</td>\n",
       "      <td>NaN</td>\n",
       "      <td>562</td>\n",
       "      <td>2003</td>\n",
       "    </tr>\n",
       "    <tr>\n",
       "      <th>1990</th>\n",
       "      <td>1726.0</td>\n",
       "      <td>CHANDRAPUR, AGARTALA D/S OF HAORA RIVER, TRIPURA</td>\n",
       "      <td>NaN</td>\n",
       "      <td>29</td>\n",
       "      <td>7.6</td>\n",
       "      <td>110.0</td>\n",
       "      <td>5.7</td>\n",
       "      <td>1.1</td>\n",
       "      <td>NaN</td>\n",
       "      <td>NaN</td>\n",
       "      <td>546</td>\n",
       "      <td>2003</td>\n",
       "    </tr>\n",
       "  </tbody>\n",
       "</table>\n",
       "<p>1991 rows × 12 columns</p>\n",
       "</div>"
      ],
      "text/plain": [
       "      STATION CODE                                          LOCATIONS  \\\n",
       "0           1393.0               DAMANGANGA AT D/S OF MADHUBAN, DAMAN   \n",
       "1           1399.0  ZUARI AT D/S OF PT. WHERE KUMBARJRIA CANAL JOI...   \n",
       "2           1475.0                                ZUARI AT PANCHAWADI   \n",
       "3           3181.0                        RIVER ZUARI AT BORIM BRIDGE   \n",
       "4           3182.0                       RIVER ZUARI AT MARCAIM JETTY   \n",
       "...            ...                                                ...   \n",
       "1986        1330.0            TAMBIRAPARANI AT ARUMUGANERI, TAMILNADU   \n",
       "1987        1450.0  PALAR AT VANIYAMBADI WATER SUPPLY HEAD WORK, T...   \n",
       "1988        1403.0                 GUMTI AT U/S SOUTH TRIPURA,TRIPURA   \n",
       "1989        1404.0                GUMTI AT D/S SOUTH TRIPURA, TRIPURA   \n",
       "1990        1726.0   CHANDRAPUR, AGARTALA D/S OF HAORA RIVER, TRIPURA   \n",
       "\n",
       "            STATE  Temp  D.O. (mg/l)     PH  CONDUCTIVITY (µmhos/cm)  \\\n",
       "0     DAMAN & DIU  30.6          6.7    7.5                    203.0   \n",
       "1             GOA  29.8          5.7    7.2                    189.0   \n",
       "2             GOA  29.5          6.3    6.9                    179.0   \n",
       "3             GOA  29.7          5.8    6.9                     64.0   \n",
       "4             GOA  29.5          5.8    7.3                     83.0   \n",
       "...           ...   ...          ...    ...                      ...   \n",
       "1986          NaN   NaN          7.9  738.0                      7.2   \n",
       "1987          NaN    29          7.5  585.0                      6.3   \n",
       "1988          NaN    28          7.6   98.0                      6.2   \n",
       "1989          NaN    28          7.7   91.0                      6.5   \n",
       "1990          NaN    29          7.6  110.0                      5.7   \n",
       "\n",
       "     B.O.D. (mg/l) NITRATENAN N+ NITRITENANN (mg/l)  \\\n",
       "0              NaN                              0.1   \n",
       "1                2                              0.2   \n",
       "2              1.7                              0.1   \n",
       "3              3.8                              0.5   \n",
       "4              1.9                              0.4   \n",
       "...            ...                              ...   \n",
       "1986           2.7                            0.518   \n",
       "1987           2.6                            0.155   \n",
       "1988           1.2                              NaN   \n",
       "1989           1.3                              NaN   \n",
       "1990           1.1                              NaN   \n",
       "\n",
       "     FECAL COLIFORM (MPN/100ml) TOTAL COLIFORM (MPN/100ml)Mean  year  \n",
       "0                            11                             27  2014  \n",
       "1                          4953                           8391  2014  \n",
       "2                          3243                           5330  2014  \n",
       "3                          5382                           8443  2014  \n",
       "4                          3428                           5500  2014  \n",
       "...                         ...                            ...   ...  \n",
       "1986                      0.518                            202  2003  \n",
       "1987                      0.155                            315  2003  \n",
       "1988                        NaN                            570  2003  \n",
       "1989                        NaN                            562  2003  \n",
       "1990                        NaN                            546  2003  \n",
       "\n",
       "[1991 rows x 12 columns]"
      ]
     },
     "execution_count": 53,
     "metadata": {},
     "output_type": "execute_result"
    }
   ],
   "source": [
    "import numpy as np\n",
    "import pandas as pd\n",
    "from sklearn import preprocessing\n",
    "from sklearn.naive_bayes import GaussianNB\n",
    "from sklearn.svm import SVC\n",
    "water=pd.read_csv(r'water_dataX.csv',encoding='ISO-8859-1',low_memory=False)\n",
    "water"
   ]
  },
  {
   "cell_type": "code",
   "execution_count": 54,
   "metadata": {},
   "outputs": [
    {
     "data": {
      "text/plain": [
       "<matplotlib.axes._subplots.AxesSubplot at 0x1b492790>"
      ]
     },
     "execution_count": 54,
     "metadata": {},
     "output_type": "execute_result"
    },
    {
     "data": {
      "image/png": "[encoded data removed]",
      "text/plain": [
       "<Figure size 432x288 with 1 Axes>"
      ]
     },
     "metadata": {
      "needs_background": "light"
     },
     "output_type": "display_data"
    }
   ],
   "source": [
    "water['Temp'].hist(bins=10)"
   ]
  },
  {
   "cell_type": "code",
   "execution_count": 55,
   "metadata": {},
   "outputs": [
    {
     "data": {
      "text/plain": [
       "<matplotlib.axes._subplots.AxesSubplot at 0x1d9b18d0>"
      ]
     },
     "execution_count": 55,
     "metadata": {},
     "output_type": "execute_result"
    },
    {
     "data": {
      "image/png": "[encoded data removed]",
      "text/plain": [
       "<Figure size 432x288 with 1 Axes>"
      ]
     },
     "metadata": {
      "needs_background": "light"
     },
     "output_type": "display_data"
    }
   ],
   "source": [
    "water.boxplot(column='year')"
   ]
  },
  {
   "cell_type": "code",
   "execution_count": 56,
   "metadata": {},
   "outputs": [],
   "source": [
    "import matplotlib.pyplot as plt"
   ]
  },
  {
   "cell_type": "code",
   "execution_count": 57,
   "metadata": {},
   "outputs": [
    {
     "data": {
      "image/png": "[encoded data removed]",
      "text/plain": [
       "<Figure size 432x288 with 1 Axes>"
      ]
     },
     "metadata": {
      "needs_background": "light"
     },
     "output_type": "display_data"
    }
   ],
   "source": [
    "#Bar Graph\n",
    "fig,ax=plt.subplots()\n",
    "data=water['STATE'].value_counts()\n",
    "points=data.index\n",
    "frequency=data.values\n",
    "ax.bar(points,frequency)\n",
    "ax.set_title('STATE vs frequency')\n",
    "ax.set_label('STATE')\n",
    "ax.set_label('Frequency')"
   ]
  },
  {
   "cell_type": "code",
   "execution_count": 58,
   "metadata": {},
   "outputs": [
    {
     "data": {
      "text/plain": [
       "array([[<matplotlib.axes._subplots.AxesSubplot object at 0x1C59B710>,\n",
       "        <matplotlib.axes._subplots.AxesSubplot object at 0x1DCC1AB0>,\n",
       "        <matplotlib.axes._subplots.AxesSubplot object at 0x1DD87B90>,\n",
       "        <matplotlib.axes._subplots.AxesSubplot object at 0x1DDA7C70>,\n",
       "        <matplotlib.axes._subplots.AxesSubplot object at 0x1DDC8D50>,\n",
       "        <matplotlib.axes._subplots.AxesSubplot object at 0x1DDE9E30>,\n",
       "        <matplotlib.axes._subplots.AxesSubplot object at 0x1DE09F10>,\n",
       "        <matplotlib.axes._subplots.AxesSubplot object at 0x1DE28FF0>,\n",
       "        <matplotlib.axes._subplots.AxesSubplot object at 0x1DE335B0>,\n",
       "        <matplotlib.axes._subplots.AxesSubplot object at 0x1DE54750>,\n",
       "        <matplotlib.axes._subplots.AxesSubplot object at 0x1DF16850>,\n",
       "        <matplotlib.axes._subplots.AxesSubplot object at 0x1DF36930>,\n",
       "        <matplotlib.axes._subplots.AxesSubplot object at 0x1DF57A10>,\n",
       "        <matplotlib.axes._subplots.AxesSubplot object at 0x1DF77AF0>],\n",
       "       [<matplotlib.axes._subplots.AxesSubplot object at 0x1DF98BD0>,\n",
       "        <matplotlib.axes._subplots.AxesSubplot object at 0x1DFB7CB0>,\n",
       "        <matplotlib.axes._subplots.AxesSubplot object at 0x1DFD9D90>,\n",
       "        <matplotlib.axes._subplots.AxesSubplot object at 0x1DFF9E70>,\n",
       "        <matplotlib.axes._subplots.AxesSubplot object at 0x1E01AF50>,\n",
       "        <matplotlib.axes._subplots.AxesSubplot object at 0x1E03BA90>,\n",
       "        <matplotlib.axes._subplots.AxesSubplot object at 0x1E05BB70>,\n",
       "        <matplotlib.axes._subplots.AxesSubplot object at 0x1E07BC50>,\n",
       "        <matplotlib.axes._subplots.AxesSubplot object at 0x1E09DD30>,\n",
       "        <matplotlib.axes._subplots.AxesSubplot object at 0x1E0BEE10>,\n",
       "        <matplotlib.axes._subplots.AxesSubplot object at 0x1E0DDEF0>,\n",
       "        <matplotlib.axes._subplots.AxesSubplot object at 0x1E0FEFD0>,\n",
       "        <matplotlib.axes._subplots.AxesSubplot object at 0x1E129670>,\n",
       "        <matplotlib.axes._subplots.AxesSubplot object at 0x1E14B750>],\n",
       "       [<matplotlib.axes._subplots.AxesSubplot object at 0x1E16B830>,\n",
       "        <matplotlib.axes._subplots.AxesSubplot object at 0x1E18A910>,\n",
       "        <matplotlib.axes._subplots.AxesSubplot object at 0x1E1AC9F0>,\n",
       "        <matplotlib.axes._subplots.AxesSubplot object at 0x1E1CCAD0>,\n",
       "        <matplotlib.axes._subplots.AxesSubplot object at 0x1E1EBBB0>,\n",
       "        <matplotlib.axes._subplots.AxesSubplot object at 0x1E20CC90>,\n",
       "        <matplotlib.axes._subplots.AxesSubplot object at 0x1E22DD70>,\n",
       "        <matplotlib.axes._subplots.AxesSubplot object at 0x1E24EE50>,\n",
       "        <matplotlib.axes._subplots.AxesSubplot object at 0x1E26CF30>,\n",
       "        <matplotlib.axes._subplots.AxesSubplot object at 0x1D3D9950>,\n",
       "        <matplotlib.axes._subplots.AxesSubplot object at 0x19764830>,\n",
       "        <matplotlib.axes._subplots.AxesSubplot object at 0x1988D590>,\n",
       "        <matplotlib.axes._subplots.AxesSubplot object at 0x199CB230>,\n",
       "        <matplotlib.axes._subplots.AxesSubplot object at 0x199FA3B0>],\n",
       "       [<matplotlib.axes._subplots.AxesSubplot object at 0x19A0D270>,\n",
       "        <matplotlib.axes._subplots.AxesSubplot object at 0x19A16350>,\n",
       "        <matplotlib.axes._subplots.AxesSubplot object at 0x1978FDF0>,\n",
       "        <matplotlib.axes._subplots.AxesSubplot object at 0x19773870>,\n",
       "        <matplotlib.axes._subplots.AxesSubplot object at 0x19A13CD0>,\n",
       "        <matplotlib.axes._subplots.AxesSubplot object at 0x19750DB0>,\n",
       "        <matplotlib.axes._subplots.AxesSubplot object at 0x19894E90>,\n",
       "        <matplotlib.axes._subplots.AxesSubplot object at 0x19A22F70>,\n",
       "        <matplotlib.axes._subplots.AxesSubplot object at 0x19810610>,\n",
       "        <matplotlib.axes._subplots.AxesSubplot object at 0x197956F0>,\n",
       "        <matplotlib.axes._subplots.AxesSubplot object at 0x197887D0>,\n",
       "        <matplotlib.axes._subplots.AxesSubplot object at 0x199C68B0>,\n",
       "        <matplotlib.axes._subplots.AxesSubplot object at 0x197E3990>,\n",
       "        <matplotlib.axes._subplots.AxesSubplot object at 0x197CFA70>],\n",
       "       [<matplotlib.axes._subplots.AxesSubplot object at 0x1E29CB50>,\n",
       "        <matplotlib.axes._subplots.AxesSubplot object at 0x1E2BCC30>,\n",
       "        <matplotlib.axes._subplots.AxesSubplot object at 0x19998D10>,\n",
       "        <matplotlib.axes._subplots.AxesSubplot object at 0x19920DF0>,\n",
       "        <matplotlib.axes._subplots.AxesSubplot object at 0x1993EED0>,\n",
       "        <matplotlib.axes._subplots.AxesSubplot object at 0x19AA0FB0>,\n",
       "        <matplotlib.axes._subplots.AxesSubplot object at 0x19AC1AF0>,\n",
       "        <matplotlib.axes._subplots.AxesSubplot object at 0x19AE1BD0>,\n",
       "        <matplotlib.axes._subplots.AxesSubplot object at 0x19B01CB0>,\n",
       "        <matplotlib.axes._subplots.AxesSubplot object at 0x19B22D90>,\n",
       "        <matplotlib.axes._subplots.AxesSubplot object at 0x19B43E70>,\n",
       "        <matplotlib.axes._subplots.AxesSubplot object at 0x1E2C4F50>,\n",
       "        <matplotlib.axes._subplots.AxesSubplot object at 0x1E2F15F0>,\n",
       "        <matplotlib.axes._subplots.AxesSubplot object at 0x1E3116D0>],\n",
       "       [<matplotlib.axes._subplots.AxesSubplot object at 0x1E3327B0>,\n",
       "        <matplotlib.axes._subplots.AxesSubplot object at 0x1E353890>,\n",
       "        <matplotlib.axes._subplots.AxesSubplot object at 0x1E375970>,\n",
       "        <matplotlib.axes._subplots.AxesSubplot object at 0x1E396A50>,\n",
       "        <matplotlib.axes._subplots.AxesSubplot object at 0x1E3B5B30>,\n",
       "        <matplotlib.axes._subplots.AxesSubplot object at 0x1E3D4C10>,\n",
       "        <matplotlib.axes._subplots.AxesSubplot object at 0x1E3F6CF0>,\n",
       "        <matplotlib.axes._subplots.AxesSubplot object at 0x1E416DD0>,\n",
       "        <matplotlib.axes._subplots.AxesSubplot object at 0x1E436EB0>,\n",
       "        <matplotlib.axes._subplots.AxesSubplot object at 0x1E456F90>,\n",
       "        <matplotlib.axes._subplots.AxesSubplot object at 0x1E477AD0>,\n",
       "        <matplotlib.axes._subplots.AxesSubplot object at 0x1E497BB0>,\n",
       "        <matplotlib.axes._subplots.AxesSubplot object at 0x1E4BAC90>,\n",
       "        <matplotlib.axes._subplots.AxesSubplot object at 0x1E4DBD70>],\n",
       "       [<matplotlib.axes._subplots.AxesSubplot object at 0x1E4FBE50>,\n",
       "        <matplotlib.axes._subplots.AxesSubplot object at 0x1E51EF30>,\n",
       "        <matplotlib.axes._subplots.AxesSubplot object at 0x1E53BFD0>,\n",
       "        <matplotlib.axes._subplots.AxesSubplot object at 0x1E5686B0>,\n",
       "        <matplotlib.axes._subplots.AxesSubplot object at 0x1E58A790>,\n",
       "        <matplotlib.axes._subplots.AxesSubplot object at 0x1E5AA870>,\n",
       "        <matplotlib.axes._subplots.AxesSubplot object at 0x1E5CC950>,\n",
       "        <matplotlib.axes._subplots.AxesSubplot object at 0x1E5ECA30>,\n",
       "        <matplotlib.axes._subplots.AxesSubplot object at 0x1E60BB10>,\n",
       "        <matplotlib.axes._subplots.AxesSubplot object at 0x1E62FBF0>,\n",
       "        <matplotlib.axes._subplots.AxesSubplot object at 0x1E64ECD0>,\n",
       "        <matplotlib.axes._subplots.AxesSubplot object at 0x1E66EDB0>,\n",
       "        <matplotlib.axes._subplots.AxesSubplot object at 0x1E68FE90>,\n",
       "        <matplotlib.axes._subplots.AxesSubplot object at 0x1E6B0F70>],\n",
       "       [<matplotlib.axes._subplots.AxesSubplot object at 0x1E6CFAB0>,\n",
       "        <matplotlib.axes._subplots.AxesSubplot object at 0x1E6F0B90>,\n",
       "        <matplotlib.axes._subplots.AxesSubplot object at 0x1E712C70>,\n",
       "        <matplotlib.axes._subplots.AxesSubplot object at 0x1E732D50>,\n",
       "        <matplotlib.axes._subplots.AxesSubplot object at 0x1E755E30>,\n",
       "        <matplotlib.axes._subplots.AxesSubplot object at 0x1E776F10>,\n",
       "        <matplotlib.axes._subplots.AxesSubplot object at 0x1E794FF0>,\n",
       "        <matplotlib.axes._subplots.AxesSubplot object at 0x1E7C0690>,\n",
       "        <matplotlib.axes._subplots.AxesSubplot object at 0x1E7E0770>,\n",
       "        <matplotlib.axes._subplots.AxesSubplot object at 0x1E804850>,\n",
       "        <matplotlib.axes._subplots.AxesSubplot object at 0x1E823930>,\n",
       "        <matplotlib.axes._subplots.AxesSubplot object at 0x1E843A10>,\n",
       "        <matplotlib.axes._subplots.AxesSubplot object at 0x1E862AF0>,\n",
       "        <matplotlib.axes._subplots.AxesSubplot object at 0x1E886BD0>],\n",
       "       [<matplotlib.axes._subplots.AxesSubplot object at 0x1E8A4CB0>,\n",
       "        <matplotlib.axes._subplots.AxesSubplot object at 0x1E8C6D90>,\n",
       "        <matplotlib.axes._subplots.AxesSubplot object at 0x1E8E3E70>,\n",
       "        <matplotlib.axes._subplots.AxesSubplot object at 0x1E906F50>,\n",
       "        <matplotlib.axes._subplots.AxesSubplot object at 0x1E926A90>,\n",
       "        <matplotlib.axes._subplots.AxesSubplot object at 0x1E948B70>,\n",
       "        <matplotlib.axes._subplots.AxesSubplot object at 0x1E96BC50>,\n",
       "        <matplotlib.axes._subplots.AxesSubplot object at 0x1E98CD30>,\n",
       "        <matplotlib.axes._subplots.AxesSubplot object at 0x1E9ACE10>,\n",
       "        <matplotlib.axes._subplots.AxesSubplot object at 0x1E9CDEF0>,\n",
       "        <matplotlib.axes._subplots.AxesSubplot object at 0x1E9EDFD0>,\n",
       "        <matplotlib.axes._subplots.AxesSubplot object at 0x1EA19670>,\n",
       "        <matplotlib.axes._subplots.AxesSubplot object at 0x1EA39750>,\n",
       "        <matplotlib.axes._subplots.AxesSubplot object at 0x1EA5C830>],\n",
       "       [<matplotlib.axes._subplots.AxesSubplot object at 0x1EA7C910>,\n",
       "        <matplotlib.axes._subplots.AxesSubplot object at 0x1EA9A9F0>,\n",
       "        <matplotlib.axes._subplots.AxesSubplot object at 0x1EABDAD0>,\n",
       "        <matplotlib.axes._subplots.AxesSubplot object at 0x1EADDBB0>,\n",
       "        <matplotlib.axes._subplots.AxesSubplot object at 0x1EAFDC90>,\n",
       "        <matplotlib.axes._subplots.AxesSubplot object at 0x1EB1ED70>,\n",
       "        <matplotlib.axes._subplots.AxesSubplot object at 0x1EB3EE50>,\n",
       "        <matplotlib.axes._subplots.AxesSubplot object at 0x1EB5EF30>,\n",
       "        <matplotlib.axes._subplots.AxesSubplot object at 0x1EB7EA70>,\n",
       "        <matplotlib.axes._subplots.AxesSubplot object at 0x1EBA1B50>,\n",
       "        <matplotlib.axes._subplots.AxesSubplot object at 0x1EBC3C30>,\n",
       "        <matplotlib.axes._subplots.AxesSubplot object at 0x1EBE3D10>,\n",
       "        <matplotlib.axes._subplots.AxesSubplot object at 0x1EC02DF0>,\n",
       "        <matplotlib.axes._subplots.AxesSubplot object at 0x1EC24ED0>],\n",
       "       [<matplotlib.axes._subplots.AxesSubplot object at 0x1EC43FB0>,\n",
       "        <matplotlib.axes._subplots.AxesSubplot object at 0x1EC6F650>,\n",
       "        <matplotlib.axes._subplots.AxesSubplot object at 0x1EC90730>,\n",
       "        <matplotlib.axes._subplots.AxesSubplot object at 0x1ECB2810>,\n",
       "        <matplotlib.axes._subplots.AxesSubplot object at 0x1ECD18F0>,\n",
       "        <matplotlib.axes._subplots.AxesSubplot object at 0x1ECF29D0>,\n",
       "        <matplotlib.axes._subplots.AxesSubplot object at 0x1ED14AB0>,\n",
       "        <matplotlib.axes._subplots.AxesSubplot object at 0x1ED34B90>,\n",
       "        <matplotlib.axes._subplots.AxesSubplot object at 0x1ED55C70>,\n",
       "        <matplotlib.axes._subplots.AxesSubplot object at 0x1ED74D50>,\n",
       "        <matplotlib.axes._subplots.AxesSubplot object at 0x1ED96E30>,\n",
       "        <matplotlib.axes._subplots.AxesSubplot object at 0x1EDB8F10>,\n",
       "        <matplotlib.axes._subplots.AxesSubplot object at 0x1EDD9FF0>,\n",
       "        <matplotlib.axes._subplots.AxesSubplot object at 0x1EDF9B30>],\n",
       "       [<matplotlib.axes._subplots.AxesSubplot object at 0x1EE1AC10>,\n",
       "        <matplotlib.axes._subplots.AxesSubplot object at 0x1EE3BCF0>,\n",
       "        <matplotlib.axes._subplots.AxesSubplot object at 0x1EE5CDD0>,\n",
       "        <matplotlib.axes._subplots.AxesSubplot object at 0x1EE7DEB0>,\n",
       "        <matplotlib.axes._subplots.AxesSubplot object at 0x1EE9EF90>,\n",
       "        <matplotlib.axes._subplots.AxesSubplot object at 0x1EEC8630>,\n",
       "        <matplotlib.axes._subplots.AxesSubplot object at 0x1EEE8710>,\n",
       "        <matplotlib.axes._subplots.AxesSubplot object at 0x1EF097F0>,\n",
       "        <matplotlib.axes._subplots.AxesSubplot object at 0x1EF2B8D0>,\n",
       "        <matplotlib.axes._subplots.AxesSubplot object at 0x1EF4B9B0>,\n",
       "        <matplotlib.axes._subplots.AxesSubplot object at 0x1EF6BA90>,\n",
       "        <matplotlib.axes._subplots.AxesSubplot object at 0x1EF8BB70>,\n",
       "        <matplotlib.axes._subplots.AxesSubplot object at 0x1EFADC50>,\n",
       "        <matplotlib.axes._subplots.AxesSubplot object at 0x1EFCCD30>],\n",
       "       [<matplotlib.axes._subplots.AxesSubplot object at 0x1EFEEE10>,\n",
       "        <matplotlib.axes._subplots.AxesSubplot object at 0x1F00EEF0>,\n",
       "        <matplotlib.axes._subplots.AxesSubplot object at 0x1F031FD0>,\n",
       "        <matplotlib.axes._subplots.AxesSubplot object at 0x1F051B10>,\n",
       "        <matplotlib.axes._subplots.AxesSubplot object at 0x1F071BF0>,\n",
       "        <matplotlib.axes._subplots.AxesSubplot object at 0x1F092CD0>,\n",
       "        <matplotlib.axes._subplots.AxesSubplot object at 0x1F0B3DB0>,\n",
       "        <matplotlib.axes._subplots.AxesSubplot object at 0x1F0D4E90>,\n",
       "        <matplotlib.axes._subplots.AxesSubplot object at 0x1F0F6F70>,\n",
       "        <matplotlib.axes._subplots.AxesSubplot object at 0x1F120610>,\n",
       "        <matplotlib.axes._subplots.AxesSubplot object at 0x1F1406F0>,\n",
       "        <matplotlib.axes._subplots.AxesSubplot object at 0x1F1607D0>,\n",
       "        <matplotlib.axes._subplots.AxesSubplot object at 0x1F1818B0>,\n",
       "        <matplotlib.axes._subplots.AxesSubplot object at 0x1F1A4990>],\n",
       "       [<matplotlib.axes._subplots.AxesSubplot object at 0x1F1C4A70>,\n",
       "        <matplotlib.axes._subplots.AxesSubplot object at 0x1F1E3B50>,\n",
       "        <matplotlib.axes._subplots.AxesSubplot object at 0x1F206C30>,\n",
       "        <matplotlib.axes._subplots.AxesSubplot object at 0x1F227D10>,\n",
       "        <matplotlib.axes._subplots.AxesSubplot object at 0x1F247DF0>,\n",
       "        <matplotlib.axes._subplots.AxesSubplot object at 0x1F267ED0>,\n",
       "        <matplotlib.axes._subplots.AxesSubplot object at 0x1F287FB0>,\n",
       "        <matplotlib.axes._subplots.AxesSubplot object at 0x1F2A7AF0>,\n",
       "        <matplotlib.axes._subplots.AxesSubplot object at 0x1F2C8BD0>,\n",
       "        <matplotlib.axes._subplots.AxesSubplot object at 0x1F2EBCB0>,\n",
       "        <matplotlib.axes._subplots.AxesSubplot object at 0x1F30AD90>,\n",
       "        <matplotlib.axes._subplots.AxesSubplot object at 0x1F32DE70>,\n",
       "        <matplotlib.axes._subplots.AxesSubplot object at 0x1F34DF50>,\n",
       "        <matplotlib.axes._subplots.AxesSubplot object at 0x1F3765F0>],\n",
       "       [<matplotlib.axes._subplots.AxesSubplot object at 0x1F3996D0>,\n",
       "        <matplotlib.axes._subplots.AxesSubplot object at 0x1F3B97B0>,\n",
       "        <matplotlib.axes._subplots.AxesSubplot object at 0x1F3DA890>,\n",
       "        <matplotlib.axes._subplots.AxesSubplot object at 0x1F3FC970>,\n",
       "        <matplotlib.axes._subplots.AxesSubplot object at 0x1F41AA50>,\n",
       "        <matplotlib.axes._subplots.AxesSubplot object at 0x1F43EB30>,\n",
       "        <matplotlib.axes._subplots.AxesSubplot object at 0x1F45EC10>,\n",
       "        <matplotlib.axes._subplots.AxesSubplot object at 0x1F47ECF0>,\n",
       "        <matplotlib.axes._subplots.AxesSubplot object at 0x1F49EDD0>,\n",
       "        <matplotlib.axes._subplots.AxesSubplot object at 0x1F4BEEB0>,\n",
       "        <matplotlib.axes._subplots.AxesSubplot object at 0x1F4DFF90>,\n",
       "        <matplotlib.axes._subplots.AxesSubplot object at 0x1F4FFAD0>,\n",
       "        <matplotlib.axes._subplots.AxesSubplot object at 0x1F521BB0>,\n",
       "        <matplotlib.axes._subplots.AxesSubplot object at 0x1F541C90>]],\n",
       "      dtype=object)"
      ]
     },
     "execution_count": 58,
     "metadata": {},
     "output_type": "execute_result"
    },
    {
     "data": {
      "image/png": "[encoded data removed]",
      "text/plain": [
       "<Figure size 432x288 with 210 Axes>"
      ]
     },
     "metadata": {
      "needs_background": "light"
     },
     "output_type": "display_data"
    }
   ],
   "source": [
    "water.hist(column = 'year',by = \"STATE\",bins = 10)"
   ]
  },
  {
   "cell_type": "markdown",
   "metadata": {},
   "source": [
    "# taking care of missing values"
   ]
  },
  {
   "cell_type": "code",
   "execution_count": 59,
   "metadata": {},
   "outputs": [
    {
     "data": {
      "text/plain": [
       "STATION CODE                         True\n",
       "LOCATIONS                            True\n",
       "STATE                                True\n",
       "Temp                                 True\n",
       "D.O. (mg/l)                          True\n",
       "PH                                   True\n",
       "CONDUCTIVITY (µmhos/cm)              True\n",
       "B.O.D. (mg/l)                        True\n",
       "NITRATENAN N+ NITRITENANN (mg/l)     True\n",
       "FECAL COLIFORM (MPN/100ml)           True\n",
       "TOTAL COLIFORM (MPN/100ml)Mean       True\n",
       "year                                False\n",
       "dtype: bool"
      ]
     },
     "execution_count": 59,
     "metadata": {},
     "output_type": "execute_result"
    }
   ],
   "source": [
    "water.isnull().any()"
   ]
  },
  {
   "cell_type": "code",
   "execution_count": 60,
   "metadata": {},
   "outputs": [],
   "source": [
    "water['STATION CODE'].fillna(water['STATION CODE'].mean(),inplace=True)"
   ]
  },
  {
   "cell_type": "code",
   "execution_count": 61,
   "metadata": {},
   "outputs": [],
   "source": [
    "water['PH'].fillna(water['PH'].mean(),inplace=True)"
   ]
  },
  {
   "cell_type": "code",
   "execution_count": 62,
   "metadata": {},
   "outputs": [],
   "source": [
    "water['CONDUCTIVITY (µmhos/cm)'].fillna(water['CONDUCTIVITY (µmhos/cm)'].mean(),inplace=True)"
   ]
  },
  {
   "cell_type": "code",
   "execution_count": 63,
   "metadata": {},
   "outputs": [],
   "source": [
    "water['D.O. (mg/l)'].fillna(water['D.O. (mg/l)'].mean(),inplace=True)"
   ]
  },
  {
   "cell_type": "code",
   "execution_count": 64,
   "metadata": {},
   "outputs": [],
   "source": [
    "water['year'].fillna(water['year'].mean(),inplace=True)"
   ]
  },
  {
   "cell_type": "code",
   "execution_count": 65,
   "metadata": {},
   "outputs": [
    {
     "data": {
      "text/plain": [
       "STATION CODE                        False\n",
       "LOCATIONS                            True\n",
       "STATE                                True\n",
       "Temp                                 True\n",
       "D.O. (mg/l)                         False\n",
       "PH                                  False\n",
       "CONDUCTIVITY (µmhos/cm)             False\n",
       "B.O.D. (mg/l)                        True\n",
       "NITRATENAN N+ NITRITENANN (mg/l)     True\n",
       "FECAL COLIFORM (MPN/100ml)           True\n",
       "TOTAL COLIFORM (MPN/100ml)Mean       True\n",
       "year                                False\n",
       "dtype: bool"
      ]
     },
     "execution_count": 65,
     "metadata": {},
     "output_type": "execute_result"
    }
   ],
   "source": [
    "water.isnull().any()"
   ]
  },
  {
   "cell_type": "code",
   "execution_count": 69,
   "metadata": {},
   "outputs": [
    {
     "data": {
      "text/plain": [
       "STATION CODE                          0\n",
       "LOCATIONS                           184\n",
       "STATE                               761\n",
       "Temp                                 88\n",
       "D.O. (mg/l)                           0\n",
       "PH                                    0\n",
       "CONDUCTIVITY (µmhos/cm)               0\n",
       "B.O.D. (mg/l)                        40\n",
       "NITRATENAN N+ NITRITENANN (mg/l)    220\n",
       "FECAL COLIFORM (MPN/100ml)          303\n",
       "TOTAL COLIFORM (MPN/100ml)Mean      121\n",
       "year                                  0\n",
       "dtype: int64"
      ]
     },
     "execution_count": 69,
     "metadata": {},
     "output_type": "execute_result"
    }
   ],
   "source": [
    "#Get a count of missing values in the dataset\n",
    "water.apply(lambda x: sum(x.isnull()),axis=0)"
   ]
  },
  {
   "cell_type": "code",
   "execution_count": 71,
   "metadata": {},
   "outputs": [
    {
     "data": {
      "text/plain": [
       "28        241\n",
       "29        163\n",
       "27        161\n",
       "26        102\n",
       "30         79\n",
       "         ... \n",
       "29.667      1\n",
       "22.33       1\n",
       "28.286      1\n",
       "28.143      1\n",
       "21.25       1\n",
       "Name: Temp, Length: 178, dtype: int64"
      ]
     },
     "execution_count": 71,
     "metadata": {},
     "output_type": "execute_result"
    }
   ],
   "source": [
    "water['Temp'].value_counts()"
   ]
  },
  {
   "cell_type": "code",
   "execution_count": 72,
   "metadata": {},
   "outputs": [
    {
     "data": {
      "text/plain": [
       "28        241\n",
       "29        163\n",
       "27        161\n",
       "26        102\n",
       "22.33      89\n",
       "         ... \n",
       "11          1\n",
       "24.9        1\n",
       "23.767      1\n",
       "25.667      1\n",
       "14          1\n",
       "Name: Temp, Length: 178, dtype: int64"
      ]
     },
     "execution_count": 72,
     "metadata": {},
     "output_type": "execute_result"
    }
   ],
   "source": [
    "water['Temp'].fillna('22.33', inplace=True)\n",
    "water['Temp'].value_counts()"
   ]
  },
  {
   "cell_type": "code",
   "execution_count": 73,
   "metadata": {},
   "outputs": [
    {
     "data": {
      "text/plain": [
       "1.5      77\n",
       "1        74\n",
       "1.2      72\n",
       "1.1      69\n",
       "1.6      65\n",
       "         ..\n",
       "0.25      1\n",
       "5.125     1\n",
       "4.165     1\n",
       "1.35      1\n",
       "27.5      1\n",
       "Name: B.O.D. (mg/l), Length: 407, dtype: int64"
      ]
     },
     "execution_count": 73,
     "metadata": {},
     "output_type": "execute_result"
    }
   ],
   "source": [
    "water['B.O.D. (mg/l)'].value_counts()"
   ]
  },
  {
   "cell_type": "code",
   "execution_count": 74,
   "metadata": {},
   "outputs": [
    {
     "data": {
      "text/plain": [
       "1.5      77\n",
       "1        74\n",
       "1.2      72\n",
       "1.1      69\n",
       "1.6      65\n",
       "         ..\n",
       "4.475     1\n",
       "24.5      1\n",
       "41.5      1\n",
       "1.313     1\n",
       "1.758     1\n",
       "Name: B.O.D. (mg/l), Length: 407, dtype: int64"
      ]
     },
     "execution_count": 74,
     "metadata": {},
     "output_type": "execute_result"
    }
   ],
   "source": [
    "water['B.O.D. (mg/l)'].fillna('0.25', inplace=True)\n",
    "water['B.O.D. (mg/l)'].value_counts()"
   ]
  },
  {
   "cell_type": "code",
   "execution_count": 78,
   "metadata": {},
   "outputs": [
    {
     "data": {
      "text/plain": [
       "0.1      77\n",
       "0.4      55\n",
       "1        51\n",
       "0.2      50\n",
       "0.3      44\n",
       "         ..\n",
       "2.05      1\n",
       "0.383     1\n",
       "2.955     1\n",
       "0.348     1\n",
       "5.02      1\n",
       "Name: NITRATENAN N+ NITRITENANN (mg/l), Length: 506, dtype: int64"
      ]
     },
     "execution_count": 78,
     "metadata": {},
     "output_type": "execute_result"
    }
   ],
   "source": [
    "water['NITRATENAN N+ NITRITENANN (mg/l)'].value_counts()"
   ]
  },
  {
   "cell_type": "code",
   "execution_count": 79,
   "metadata": {},
   "outputs": [
    {
     "data": {
      "text/plain": [
       "2.05     221\n",
       "0.1       77\n",
       "0.4       55\n",
       "1         51\n",
       "0.2       50\n",
       "        ... \n",
       "1.028      1\n",
       "0.383      1\n",
       "2.955      1\n",
       "0.348      1\n",
       "5.02       1\n",
       "Name: NITRATENAN N+ NITRITENANN (mg/l), Length: 506, dtype: int64"
      ]
     },
     "execution_count": 79,
     "metadata": {},
     "output_type": "execute_result"
    }
   ],
   "source": [
    "water['NITRATENAN N+ NITRITENANN (mg/l)'].fillna('2.05', inplace=True)\n",
    "water['NITRATENAN N+ NITRITENANN (mg/l)'].value_counts()"
   ]
  },
  {
   "cell_type": "code",
   "execution_count": 81,
   "metadata": {},
   "outputs": [
    {
     "data": {
      "text/plain": [
       "4        46\n",
       "3        29\n",
       "8        19\n",
       "12       18\n",
       "13       17\n",
       "         ..\n",
       "2950      1\n",
       "13775     1\n",
       "392       1\n",
       "2495      1\n",
       "1253      1\n",
       "Name: FECAL COLIFORM (MPN/100ml), Length: 869, dtype: int64"
      ]
     },
     "execution_count": 81,
     "metadata": {},
     "output_type": "execute_result"
    }
   ],
   "source": [
    "water['FECAL COLIFORM (MPN/100ml)'].value_counts()"
   ]
  },
  {
   "cell_type": "code",
   "execution_count": 82,
   "metadata": {},
   "outputs": [
    {
     "data": {
      "text/plain": [
       "392      304\n",
       "4         46\n",
       "3         29\n",
       "8         19\n",
       "12        18\n",
       "        ... \n",
       "2950       1\n",
       "13775      1\n",
       "2495       1\n",
       "4698       1\n",
       "1253       1\n",
       "Name: FECAL COLIFORM (MPN/100ml), Length: 869, dtype: int64"
      ]
     },
     "execution_count": 82,
     "metadata": {},
     "output_type": "execute_result"
    }
   ],
   "source": [
    "water['FECAL COLIFORM (MPN/100ml)'].fillna('392', inplace=True)\n",
    "water['FECAL COLIFORM (MPN/100ml)'].value_counts()"
   ]
  },
  {
   "cell_type": "code",
   "execution_count": 83,
   "metadata": {},
   "outputs": [
    {
     "data": {
      "text/plain": [
       "10       14\n",
       "45       12\n",
       "33       12\n",
       "63       11\n",
       "         11\n",
       "         ..\n",
       "1036      1\n",
       "227       1\n",
       "66250     1\n",
       "62667     1\n",
       "8925      1\n",
       "Name: TOTAL COLIFORM (MPN/100ml)Mean, Length: 1094, dtype: int64"
      ]
     },
     "execution_count": 83,
     "metadata": {},
     "output_type": "execute_result"
    }
   ],
   "source": [
    "water['TOTAL COLIFORM (MPN/100ml)Mean'].value_counts()"
   ]
  },
  {
   "cell_type": "code",
   "execution_count": 85,
   "metadata": {},
   "outputs": [
    {
     "data": {
      "text/plain": [
       "227      122\n",
       "10        14\n",
       "33        12\n",
       "45        12\n",
       "63        11\n",
       "        ... \n",
       "1036       1\n",
       "66250      1\n",
       "62667      1\n",
       "1196       1\n",
       "8925       1\n",
       "Name: TOTAL COLIFORM (MPN/100ml)Mean, Length: 1094, dtype: int64"
      ]
     },
     "execution_count": 85,
     "metadata": {},
     "output_type": "execute_result"
    }
   ],
   "source": [
    "water['TOTAL COLIFORM (MPN/100ml)Mean'].fillna('227', inplace=True)\n",
    "water['TOTAL COLIFORM (MPN/100ml)Mean'].value_counts()"
   ]
  },
  {
   "cell_type": "code",
   "execution_count": 86,
   "metadata": {},
   "outputs": [
    {
     "data": {
      "text/plain": [
       "STATION CODE                        False\n",
       "LOCATIONS                            True\n",
       "STATE                                True\n",
       "Temp                                False\n",
       "D.O. (mg/l)                         False\n",
       "PH                                  False\n",
       "CONDUCTIVITY (µmhos/cm)             False\n",
       "B.O.D. (mg/l)                       False\n",
       "NITRATENAN N+ NITRITENANN (mg/l)    False\n",
       "FECAL COLIFORM (MPN/100ml)          False\n",
       "TOTAL COLIFORM (MPN/100ml)Mean      False\n",
       "year                                False\n",
       "dtype: bool"
      ]
     },
     "execution_count": 86,
     "metadata": {},
     "output_type": "execute_result"
    }
   ],
   "source": [
    "water.isnull().any()"
   ]
  },
  {
   "cell_type": "markdown",
   "metadata": {},
   "source": [
    "# Label encoding"
   ]
  },
  {
   "cell_type": "code",
   "execution_count": 94,
   "metadata": {},
   "outputs": [],
   "source": [
    "x=['LOCATIONS','STATE']\n",
    "water[x]=water[x].fillna(water.mode().iloc[0])"
   ]
  },
  {
   "cell_type": "code",
   "execution_count": 96,
   "metadata": {},
   "outputs": [
    {
     "data": {
      "text/plain": [
       "STATION CODE                        0\n",
       "LOCATIONS                           0\n",
       "STATE                               0\n",
       "Temp                                0\n",
       "D.O. (mg/l)                         0\n",
       "PH                                  0\n",
       "CONDUCTIVITY (µmhos/cm)             0\n",
       "B.O.D. (mg/l)                       0\n",
       "NITRATENAN N+ NITRITENANN (mg/l)    0\n",
       "FECAL COLIFORM (MPN/100ml)          0\n",
       "TOTAL COLIFORM (MPN/100ml)Mean      0\n",
       "year                                0\n",
       "dtype: int64"
      ]
     },
     "execution_count": 96,
     "metadata": {},
     "output_type": "execute_result"
    }
   ],
   "source": [
    "water.isnull().sum()"
   ]
  },
  {
   "cell_type": "code",
   "execution_count": 123,
   "metadata": {},
   "outputs": [],
   "source": [
    "features=water.iloc[:,1:3].values"
   ]
  },
  {
   "cell_type": "code",
   "execution_count": 124,
   "metadata": {},
   "outputs": [
    {
     "data": {
      "text/plain": [
       "array([['DAMANGANGA AT D/S OF MADHUBAN, DAMAN', 'DAMAN & DIU'],\n",
       "       ['ZUARI AT D/S OF PT. WHERE KUMBARJRIA CANAL JOINS, GOA', 'GOA'],\n",
       "       ['ZUARI AT PANCHAWADI', 'GOA'],\n",
       "       ...,\n",
       "       ['GUMTI AT U/S SOUTH TRIPURA,TRIPURA', 'KERALA'],\n",
       "       ['GUMTI AT D/S SOUTH TRIPURA, TRIPURA', 'KERALA'],\n",
       "       ['CHANDRAPUR, AGARTALA D/S OF HAORA RIVER, TRIPURA', 'KERALA']],\n",
       "      dtype=object)"
      ]
     },
     "execution_count": 124,
     "metadata": {},
     "output_type": "execute_result"
    }
   ],
   "source": [
    "features"
   ]
  },
  {
   "cell_type": "code",
   "execution_count": 127,
   "metadata": {},
   "outputs": [],
   "source": [
    "labels=water.iloc[:,2].values"
   ]
  },
  {
   "cell_type": "code",
   "execution_count": 128,
   "metadata": {},
   "outputs": [
    {
     "data": {
      "text/plain": [
       "array(['DAMAN & DIU', 'GOA', 'GOA', ..., 'KERALA', 'KERALA', 'KERALA'],\n",
       "      dtype=object)"
      ]
     },
     "execution_count": 128,
     "metadata": {},
     "output_type": "execute_result"
    }
   ],
   "source": [
    "labels"
   ]
  },
  {
   "cell_type": "code",
   "execution_count": 116,
   "metadata": {},
   "outputs": [
    {
     "data": {
      "text/plain": [
       "array([['DAMANGANGA AT D/S OF MADHUBAN, DAMAN', 'DAMAN & DIU'],\n",
       "       ['ZUARI AT D/S OF PT. WHERE KUMBARJRIA CANAL JOINS, GOA', 'GOA'],\n",
       "       ['ZUARI AT PANCHAWADI', 'GOA'],\n",
       "       ...,\n",
       "       ['GUMTI AT U/S SOUTH TRIPURA,TRIPURA', 'KERALA'],\n",
       "       ['GUMTI AT D/S SOUTH TRIPURA, TRIPURA', 'KERALA'],\n",
       "       ['CHANDRAPUR, AGARTALA D/S OF HAORA RIVER, TRIPURA', 'KERALA']],\n",
       "      dtype=object)"
      ]
     },
     "execution_count": 116,
     "metadata": {},
     "output_type": "execute_result"
    }
   ],
   "source": [
    "features"
   ]
  },
  {
   "cell_type": "code",
   "execution_count": 129,
   "metadata": {},
   "outputs": [],
   "source": [
    "from sklearn.preprocessing import LabelEncoder\n",
    "lb=LabelEncoder()\n"
   ]
  },
  {
   "cell_type": "code",
   "execution_count": 132,
   "metadata": {},
   "outputs": [
    {
     "data": {
      "text/plain": [
       "array(['DAMANGANGA AT D/S OF MADHUBAN, DAMAN',\n",
       "       'ZUARI AT D/S OF PT. WHERE KUMBARJRIA CANAL JOINS, GOA',\n",
       "       'ZUARI AT PANCHAWADI', ..., 'GUMTI AT U/S SOUTH TRIPURA,TRIPURA',\n",
       "       'GUMTI AT D/S SOUTH TRIPURA, TRIPURA',\n",
       "       'CHANDRAPUR, AGARTALA D/S OF HAORA RIVER, TRIPURA'], dtype=object)"
      ]
     },
     "execution_count": 132,
     "metadata": {},
     "output_type": "execute_result"
    }
   ],
   "source": [
    "features[:,0]"
   ]
  },
  {
   "cell_type": "code",
   "execution_count": 133,
   "metadata": {},
   "outputs": [],
   "source": [
    "features[:,0]=lb.fit_transform(features[:,0])"
   ]
  },
  {
   "cell_type": "code",
   "execution_count": 134,
   "metadata": {},
   "outputs": [
    {
     "data": {
      "text/plain": [
       "array(['DAMAN & DIU', 'GOA', 'GOA', ..., 'KERALA', 'KERALA', 'KERALA'],\n",
       "      dtype=object)"
      ]
     },
     "execution_count": 134,
     "metadata": {},
     "output_type": "execute_result"
    }
   ],
   "source": [
    "features[:,1]"
   ]
  },
  {
   "cell_type": "code",
   "execution_count": 135,
   "metadata": {},
   "outputs": [],
   "source": [
    "features[:,1]=lb.fit_transform(features[:,1])"
   ]
  },
  {
   "cell_type": "code",
   "execution_count": 136,
   "metadata": {},
   "outputs": [
    {
     "data": {
      "text/plain": [
       "array([[83, 21],\n",
       "       [663, 51],\n",
       "       [664, 51],\n",
       "       ...,\n",
       "       [154, 66],\n",
       "       [151, 66],\n",
       "       [67, 66]], dtype=object)"
      ]
     },
     "execution_count": 136,
     "metadata": {},
     "output_type": "execute_result"
    }
   ],
   "source": [
    "features"
   ]
  },
  {
   "cell_type": "markdown",
   "metadata": {},
   "source": [
    "# one hot encoding"
   ]
  },
  {
   "cell_type": "code",
   "execution_count": 137,
   "metadata": {},
   "outputs": [
    {
     "name": "stderr",
     "output_type": "stream",
     "text": [
      "C:\\Users\\NITHIN POTLURI\\anaconda3\\lib\\site-packages\\sklearn\\preprocessing\\_encoders.py:414: FutureWarning: The handling of integer data will change in version 0.22. Currently, the categories are determined based on the range [0, max(values)], while in the future they will be determined based on the unique values.\n",
      "If you want the future behaviour and silence this warning, you can specify \"categories='auto'\".\n",
      "In case you used a LabelEncoder before this OneHotEncoder to convert the categories to integers, then you can now use the OneHotEncoder directly.\n",
      "  warnings.warn(msg, FutureWarning)\n",
      "C:\\Users\\NITHIN POTLURI\\anaconda3\\lib\\site-packages\\sklearn\\preprocessing\\_encoders.py:450: DeprecationWarning: The 'categorical_features' keyword is deprecated in version 0.20 and will be removed in 0.22. You can use the ColumnTransformer instead.\n",
      "  \"use the ColumnTransformer instead.\", DeprecationWarning)\n"
     ]
    }
   ],
   "source": [
    "from sklearn.preprocessing import OneHotEncoder\n",
    "oh=OneHotEncoder(categorical_features=[0])\n",
    "features=oh.fit_transform(features).toarray()  "
   ]
  },
  {
   "cell_type": "code",
   "execution_count": 138,
   "metadata": {},
   "outputs": [
    {
     "data": {
      "text/plain": [
       "array([[ 0.,  0.,  0., ...,  0.,  0., 21.],\n",
       "       [ 0.,  0.,  0., ...,  1.,  0., 51.],\n",
       "       [ 0.,  0.,  0., ...,  0.,  1., 51.],\n",
       "       ...,\n",
       "       [ 0.,  0.,  0., ...,  0.,  0., 66.],\n",
       "       [ 0.,  0.,  0., ...,  0.,  0., 66.],\n",
       "       [ 0.,  0.,  0., ...,  0.,  0., 66.]])"
      ]
     },
     "execution_count": 138,
     "metadata": {},
     "output_type": "execute_result"
    }
   ],
   "source": [
    "features"
   ]
  },
  {
   "cell_type": "code",
   "execution_count": 140,
   "metadata": {},
   "outputs": [],
   "source": [
    "features=features[:,0:]"
   ]
  },
  {
   "cell_type": "code",
   "execution_count": 143,
   "metadata": {},
   "outputs": [
    {
     "data": {
      "text/plain": [
       "array([ 0.,  0.,  0.,  0.,  0.,  0.,  0.,  0.,  0.,  0.,  0.,  0.,  0.,\n",
       "        0.,  0.,  0.,  0.,  0.,  0.,  0.,  0.,  0.,  0.,  0.,  0.,  0.,\n",
       "        0.,  0.,  0.,  0.,  0.,  0.,  0.,  0.,  0.,  0.,  0.,  0.,  0.,\n",
       "        0.,  0.,  0.,  0.,  0.,  0.,  0.,  0.,  0.,  0.,  0.,  0.,  0.,\n",
       "        0.,  0.,  0.,  0.,  0.,  0.,  0.,  0.,  0.,  0.,  0.,  0.,  0.,\n",
       "        0.,  0.,  0.,  0.,  0.,  0.,  0.,  0.,  0.,  0.,  0.,  0.,  0.,\n",
       "        0.,  0.,  0.,  0.,  0.,  0.,  0.,  0.,  0.,  0.,  0.,  0.,  0.,\n",
       "        0.,  0.,  0.,  0.,  0.,  0.,  0.,  0.,  0.,  0.,  0.,  0.,  0.,\n",
       "        0.,  0.,  0.,  0.,  0.,  0.,  0.,  0.,  0.,  0.,  0.,  0.,  0.,\n",
       "        0.,  0.,  0.,  0.,  0.,  0.,  0.,  0.,  0.,  0.,  0.,  0.,  0.,\n",
       "        0.,  0.,  0.,  0.,  0.,  0.,  0.,  0.,  0.,  0.,  0.,  0.,  0.,\n",
       "        0.,  0.,  0.,  0.,  0.,  0.,  0.,  0.,  0.,  0.,  0.,  0.,  0.,\n",
       "        0.,  0.,  0.,  0.,  0.,  0.,  0.,  0.,  0.,  0.,  0.,  0.,  0.,\n",
       "        0.,  0.,  0.,  0.,  0.,  0.,  0.,  0.,  0.,  0.,  0.,  0.,  0.,\n",
       "        0.,  0.,  0.,  0.,  0.,  0.,  0.,  0.,  0.,  0.,  0.,  0.,  0.,\n",
       "        0.,  0.,  0.,  0.,  0.,  0.,  0.,  0.,  0.,  0.,  0.,  0.,  0.,\n",
       "        0.,  0.,  0.,  0.,  0.,  0.,  0.,  0.,  0.,  0.,  0.,  0.,  0.,\n",
       "        0.,  0.,  0.,  0.,  0.,  0.,  0.,  0.,  0.,  0.,  0.,  0.,  0.,\n",
       "        0.,  0.,  0.,  0.,  0.,  0.,  0.,  0.,  0.,  0.,  0.,  0.,  0.,\n",
       "        0.,  0.,  0.,  0.,  0.,  0.,  0.,  0.,  0.,  0.,  0.,  0.,  0.,\n",
       "        0.,  0.,  0.,  0.,  0.,  0.,  0.,  0.,  0.,  0.,  0.,  0.,  0.,\n",
       "        0.,  0.,  0.,  0.,  0.,  0.,  0.,  0.,  0.,  0.,  0.,  0.,  0.,\n",
       "        0.,  0.,  0.,  0.,  0.,  0.,  0.,  0.,  0.,  0.,  0.,  0.,  0.,\n",
       "        0.,  0.,  0.,  0.,  0.,  0.,  0.,  0.,  0.,  0.,  0.,  0.,  0.,\n",
       "        0.,  0.,  0.,  0.,  0.,  0.,  0.,  0.,  0.,  0.,  0.,  0.,  0.,\n",
       "        0.,  0.,  0.,  0.,  0.,  0.,  0.,  0.,  0.,  0.,  0.,  0.,  0.,\n",
       "        0.,  0.,  0.,  0.,  0.,  0.,  0.,  0.,  0.,  0.,  0.,  0.,  0.,\n",
       "        0.,  0.,  0.,  0.,  0.,  0.,  0.,  0.,  0.,  0.,  0.,  0.,  0.,\n",
       "        0.,  0.,  0.,  0.,  0.,  0.,  0.,  0.,  0.,  0.,  0.,  0.,  0.,\n",
       "        0.,  0.,  0.,  0.,  0.,  0.,  0.,  0.,  0.,  0.,  0.,  0.,  0.,\n",
       "        0.,  0.,  0.,  0.,  0.,  0.,  0.,  0.,  0.,  0.,  0.,  0.,  0.,\n",
       "        0.,  0.,  0.,  0.,  0.,  0.,  0.,  0.,  0.,  0.,  0.,  0.,  0.,\n",
       "        0.,  0.,  0.,  0.,  0.,  0.,  0.,  0.,  0.,  0.,  0.,  0.,  0.,\n",
       "        0.,  0.,  0.,  0.,  0.,  0.,  0.,  0.,  0.,  0.,  0.,  0.,  0.,\n",
       "        0.,  0.,  0.,  0.,  0.,  0.,  0.,  0.,  0.,  0.,  0.,  0.,  0.,\n",
       "        0.,  0.,  0.,  0.,  0.,  0.,  0.,  0.,  0.,  0.,  0.,  0.,  0.,\n",
       "        0.,  0.,  0.,  0.,  0.,  0.,  0.,  0.,  0.,  0.,  0.,  0.,  0.,\n",
       "        0.,  0.,  0.,  0.,  0.,  0.,  0.,  0.,  0.,  0.,  0.,  0.,  0.,\n",
       "        0.,  0.,  0.,  0.,  0.,  0.,  0.,  0.,  0.,  0.,  0.,  0.,  0.,\n",
       "        0.,  0.,  0.,  0.,  0.,  0.,  0.,  0.,  0.,  0.,  0.,  0.,  0.,\n",
       "        0.,  0.,  0.,  0.,  0.,  0.,  0.,  0.,  0.,  0.,  0.,  0.,  0.,\n",
       "        0.,  0.,  0.,  0.,  0.,  0.,  0.,  0.,  0.,  0.,  0.,  0.,  0.,\n",
       "        0.,  0.,  0.,  0.,  0.,  0.,  0.,  0.,  0.,  0.,  0.,  0.,  0.,\n",
       "        0.,  0.,  0.,  0.,  0.,  0.,  0.,  0.,  0.,  0.,  0.,  0.,  0.,\n",
       "        0.,  0.,  0.,  0.,  0.,  0.,  0.,  0.,  0.,  0.,  0.,  0.,  0.,\n",
       "        0.,  0.,  0.,  0.,  0.,  0.,  0.,  0.,  0.,  0.,  0.,  0.,  0.,\n",
       "        0.,  0.,  0.,  0.,  0.,  0.,  0.,  0.,  0.,  0.,  0.,  0.,  0.,\n",
       "        0.,  0.,  0.,  0.,  0.,  0.,  0.,  0.,  0.,  0.,  0.,  0.,  0.,\n",
       "        0.,  0.,  0.,  0.,  0.,  0.,  0.,  0.,  0.,  0.,  0.,  0.,  0.,\n",
       "        0.,  0.,  0.,  0.,  0.,  0.,  0.,  0.,  0.,  0.,  0.,  0.,  0.,\n",
       "        0.,  0.,  0.,  0.,  0.,  0.,  0.,  0.,  0.,  0.,  0.,  0.,  0.,\n",
       "        1.,  0., 51.])"
      ]
     },
     "execution_count": 143,
     "metadata": {},
     "output_type": "execute_result"
    }
   ],
   "source": [
    "features[1,:]"
   ]
  },
  {
   "cell_type": "code",
   "execution_count": 146,
   "metadata": {},
   "outputs": [],
   "source": [
    "from sklearn.model_selection import train_test_split\n",
    "x_train,x_test,y_train,y_test=train_test_split(features,labels,test_size=0.2,random_state=0)"
   ]
  },
  {
   "cell_type": "code",
   "execution_count": 147,
   "metadata": {},
   "outputs": [],
   "source": [
    "from sklearn.preprocessing import StandardScaler\n",
    "sc= StandardScaler()\n",
    "\n",
    "x_train =sc.fit_transform(x_train)\n",
    "x_test = sc.transform(x_test)"
   ]
  },
  {
   "cell_type": "code",
   "execution_count": null,
   "metadata": {},
   "outputs": [],
   "source": []
  }
 ],
 "metadata": {
  "kernelspec": {
   "display_name": "Python 3",
   "language": "python",
   "name": "python3"
  },
  "language_info": {
   "codemirror_mode": {
    "name": "ipython",
    "version": 3
   },
   "file_extension": ".py",
   "mimetype": "text/x-python",
   "name": "python",
   "nbconvert_exporter": "python",
   "pygments_lexer": "ipython3",
   "version": "3.7.6"
  }
 },
 "nbformat": 4,
 "nbformat_minor": 4
}
